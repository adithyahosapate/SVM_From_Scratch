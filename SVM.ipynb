{
 "cells": [
  {
   "cell_type": "code",
   "execution_count": 25,
   "metadata": {
    "collapsed": true
   },
   "outputs": [],
   "source": [
    "import numpy as np\n"
   ]
  },
  {
   "cell_type": "code",
   "execution_count": 27,
   "metadata": {
    "collapsed": true
   },
   "outputs": [],
   "source": [
    "Y = np.array([-1,-1,1,1,1])\n"
   ]
  },
  {
   "cell_type": "code",
   "execution_count": 49,
   "metadata": {
    "collapsed": true
   },
   "outputs": [],
   "source": [
    "X = np.array([\n",
    "    [-2,4,-1],\n",
    "    [4,1,-1],\n",
    "    [1, 6, -1],\n",
    "    [2, 4, -1],\n",
    "    [6, 2, -1],\n",
    "\n",
    "])\n"
   ]
  },
  {
   "cell_type": "code",
   "execution_count": 28,
   "metadata": {},
   "outputs": [
    {
     "name": "stdout",
     "output_type": "stream",
     "text": [
      "[  1.5886023    3.17426311  11.11751923]\n"
     ]
    }
   ],
   "source": [
    "def svm_sgd(X,Y):\n",
    "    w=np.random.normal(0,1,size=len(X[0]))\n",
    "    eta=1\n",
    "    epochs=100000\n",
    "    \n",
    "    for epoch in range(epochs):\n",
    "        lamb=1/(epoch+1)\n",
    "        #decaying\n",
    "        for i,x in enumerate(X):\n",
    "            if(Y[i]*np.dot(X[i],w)<1):\n",
    "                w=w+eta*(Y[i]*X[i]-2*lamb*w)\n",
    "            else:\n",
    "                w=w+eta*(-2*lamb*w)\n",
    "    return w            \n",
    "w=svm_sgd(X,Y)\n",
    "print(w)"
   ]
  },
  {
   "cell_type": "code",
   "execution_count": 50,
   "metadata": {},
   "outputs": [
    {
     "data": {
      "image/png": "[encoded data removed]",
      "text/plain": [
       "<matplotlib.figure.Figure at 0x189d7f6a8d0>"
      ]
     },
     "metadata": {},
     "output_type": "display_data"
    }
   ],
   "source": [
    "import matplotlib.pyplot as plt\n",
    "#def plot_svm():\n",
    "x2=[w[0],w[1],-w[1],w[0]]\n",
    "x3=[w[0],w[1],w[1],-w[0]]\n",
    "for x in X:\n",
    "    plt.scatter(x[0],x[1] )\n",
    "X,Y,U,V = zip(x2,x3)\n",
    "ax = plt.gca()\n",
    "ax.quiver(X,Y,U,V ,scale=1, color='blue')    \n",
    "plt.show()    "
   ]
  },
  {
   "cell_type": "code",
   "execution_count": 38,
   "metadata": {},
   "outputs": [
    {
     "data": {
      "image/png": "[encoded data removed]",
      "text/plain": [
       "<matplotlib.figure.Figure at 0x189d6c0f390>"
      ]
     },
     "metadata": {},
     "output_type": "display_data"
    }
   ],
   "source": [
    "import matplotlib.pyplot as plt\n",
    "x=np.linspace(-2,6,100)\n",
    "y=(w[2]-x*w[0])/w[1]\n",
    "plt.plot(x,y)\n",
    "for x in X:\n",
    "    plt.scatter(x[0],x[1] )\n",
    "plt.show()\n"
   ]
  },
  {
   "cell_type": "code",
   "execution_count": null,
   "metadata": {
    "collapsed": true
   },
   "outputs": [],
   "source": []
  }
 ],
 "metadata": {
  "anaconda-cloud": {},
  "kernelspec": {
   "display_name": "Python [conda env:tensorflow]",
   "language": "python",
   "name": "conda-env-tensorflow-py"
  },
  "language_info": {
   "codemirror_mode": {
    "name": "ipython",
    "version": 3
   },
   "file_extension": ".py",
   "mimetype": "text/x-python",
   "name": "python",
   "nbconvert_exporter": "python",
   "pygments_lexer": "ipython3",
   "version": "3.5.3"
  }
 },
 "nbformat": 4,
 "nbformat_minor": 2
}
