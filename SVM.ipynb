{
 "cells": [
  {
   "cell_type": "code",
   "execution_count": 1,
   "metadata": {
    "collapsed": true
   },
   "outputs": [],
   "source": [
    "import numpy as np\n"
   ]
  },
  {
   "cell_type": "code",
   "execution_count": 6,
   "metadata": {
    "collapsed": true
   },
   "outputs": [],
   "source": [
    "Y = np.array([-1,-1,1,1,1])\n"
   ]
  },
  {
   "cell_type": "code",
   "execution_count": 14,
   "metadata": {
    "collapsed": true
   },
   "outputs": [],
   "source": [
    "X = np.array([\n",
    "    [-2,4],\n",
    "    [4,1],\n",
    "    [1, 6],\n",
    "    [2, 4],\n",
    "    [6, 2],\n",
    "\n",
    "])\n"
   ]
  },
  {
   "cell_type": "code",
   "execution_count": 23,
   "metadata": {},
   "outputs": [
    {
     "name": "stdout",
     "output_type": "stream",
     "text": [
      "[ 0.5321108   1.08270927] -4.35\n"
     ]
    }
   ],
   "source": [
    "Y = np.array([-1,-1,1,1,1])\n",
    "X = np.array([\n",
    "    [-2,4],\n",
    "    [4,1],\n",
    "    [1, 6],\n",
    "    [2, 4],\n",
    "    [6, 2],\n",
    "\n",
    "])\n",
    "\n",
    "\n",
    "def svm_sgd(X,Y):\n",
    "    w=np.random.normal(0,1,size=2)\n",
    "    eta=0.01\n",
    "    b=0\n",
    "    epochs=100000\n",
    "    \n",
    "    for epoch in range(epochs):\n",
    "        lamb=1/(epoch+1)\n",
    "        #decaying\n",
    "        for i,x in enumerate(X):\n",
    "            if(Y[i]*(np.dot(X[i],w)+b)<1):\n",
    "                w=w+eta*(Y[i]*X[i]-2*lamb*w)\n",
    "                b=b+eta*Y[i]\n",
    "            else:\n",
    "                w=w+eta*(-2*lamb*w)\n",
    "    return w,b            \n",
    "w,b=svm_sgd(X,Y)\n",
    "print(w,b)"
   ]
  },
  {
   "cell_type": "code",
   "execution_count": 24,
   "metadata": {},
   "outputs": [
    {
     "data": {
      "image/png": "[encoded data removed]",
      "text/plain": [
       "<matplotlib.figure.Figure at 0x7f5cf69fb748>"
      ]
     },
     "metadata": {},
     "output_type": "display_data"
    }
   ],
   "source": [
    "import matplotlib.pyplot as plt\n",
    "#def plot_svm():\n",
    "x2=[w[0],w[1],-w[1],w[0]]\n",
    "x3=[w[0],w[1],w[1],-w[0]]\n",
    "for x in X:\n",
    "    plt.scatter(x[0],x[1] )\n",
    "X,Y,U,V = zip(x2,x3)\n",
    "ax = plt.gca()\n",
    "ax.quiver(X,Y,U,V ,scale=1, color='blue')    \n",
    "plt.show()    "
   ]
  },
  {
   "cell_type": "code",
   "execution_count": null,
   "metadata": {},
   "outputs": [],
   "source": []
  },
  {
   "cell_type": "code",
   "execution_count": null,
   "metadata": {
    "collapsed": true
   },
   "outputs": [],
   "source": []
  }
 ],
 "metadata": {
  "anaconda-cloud": {},
  "kernelspec": {
   "display_name": "Python 3",
   "language": "python",
   "name": "python3"
  },
  "language_info": {
   "codemirror_mode": {
    "name": "ipython",
    "version": 3
   },
   "file_extension": ".py",
   "mimetype": "text/x-python",
   "name": "python",
   "nbconvert_exporter": "python",
   "pygments_lexer": "ipython3",
   "version": "3.5.2"
  }
 },
 "nbformat": 4,
 "nbformat_minor": 2
}
